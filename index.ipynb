{
 "cells": [
  {
   "cell_type": "markdown",
   "metadata": {},
   "source": [
    "# Extensions to Linear Models - Lab"
   ]
  },
  {
   "cell_type": "markdown",
   "metadata": {},
   "source": [
    "## Introduction\n",
    "\n",
    "In this lab, you'll practice many concepts learned in this section, from adding interactions and polynomials to your model to AIC and BIC!"
   ]
  },
  {
   "cell_type": "markdown",
   "metadata": {},
   "source": [
    "## Summary\n",
    "\n",
    "You will be able to:\n",
    "- Build a linear regression model with polynomial features/interactions\n",
    "- Perform regularization\n",
    "- Use AIC and BIC to select the best value for the regularization parameter\n"
   ]
  },
  {
   "cell_type": "markdown",
   "metadata": {},
   "source": [
    "## Let's get started!"
   ]
  },
  {
   "cell_type": "markdown",
   "metadata": {},
   "source": [
    "Import all the necessary packages."
   ]
  },
  {
   "cell_type": "code",
   "execution_count": 1,
   "metadata": {},
   "outputs": [],
   "source": [
    "import pandas as pd\n",
    "import numpy as np\n",
    "import matplotlib.pyplot as plt\n",
    "import warnings\n",
    "warnings.filterwarnings('ignore')\n",
    "\n",
    "from sklearn.linear_model import LinearRegression\n",
    "from sklearn.model_selection import cross_val_score\n",
    "from sklearn.model_selection import KFold\n",
    "from sklearn import preprocessing\n",
    "\n",
    "from sklearn.datasets import load_boston"
   ]
  },
  {
   "cell_type": "markdown",
   "metadata": {},
   "source": [
    "## Look at a Baseline Boston Housing Data Model"
   ]
  },
  {
   "cell_type": "markdown",
   "metadata": {},
   "source": [
    "Import the Boston housing data set, use all the predictors in their scaled version (using `preprocessing.scale`. Look at a baseline model using *scaled variables* as predictors. Use 5-fold cross-validation this time and use the $R^2$ score to evaluate the model."
   ]
  },
  {
   "cell_type": "code",
   "execution_count": 15,
   "metadata": {},
   "outputs": [
    {
     "name": "stdout",
     "output_type": "stream",
     "text": [
      "0.3532759243958824\n"
     ]
    }
   ],
   "source": [
    "# Your code here\n",
    "boston = load_boston()\n",
    "data = boston.data\n",
    "target = boston.target\n",
    "\n",
    "data_scaled = preprocessing.scale(data)\n",
    "df = pd.DataFrame(data = data_scaled, columns = boston.feature_names)\n",
    "\n",
    "reg = LinearRegression()\n",
    "folder = KFold(n_splits = 5, random_state = 123)\n",
    "cross_val = cross_val_score(reg, data_scaled, y = target, scoring = 'r2', cv = folder)\n",
    "baseline = np.mean(cross_val)\n",
    "print(baseline)"
   ]
  },
  {
   "cell_type": "markdown",
   "metadata": {},
   "source": [
    "## Include interactions\n",
    "\n",
    "Look at all the possible combinations of variables for interactions by adding interactions one by one to the baseline model. Next, evaluate that model using 5-fold classification and store the $R^2$ to compare it with the baseline model.\n",
    "\n",
    "You've created code for this before in the interactions lab, yet this time, you have scaled the variables so the outcomes may look different. \n",
    "\n",
    "Print the 7 most important interactions."
   ]
  },
  {
   "cell_type": "code",
   "execution_count": 19,
   "metadata": {},
   "outputs": [
    {
     "name": "stdout",
     "output_type": "stream",
     "text": [
      "Index(['CRIM', 'ZN', 'INDUS', 'CHAS', 'NOX', 'RM', 'AGE', 'DIS', 'RAD', 'TAX',\n",
      "       'PTRATIO', 'B', 'LSTAT', 'RM_LSTAT'],\n",
      "      dtype='object')\n",
      "0.6005532585623974\n",
      "('RM', 'LSTAT')\n",
      "Index(['CRIM', 'ZN', 'INDUS', 'CHAS', 'NOX', 'RM', 'AGE', 'DIS', 'RAD', 'TAX',\n",
      "       'PTRATIO', 'B', 'LSTAT', 'RM_LSTAT', 'RM_RAD'],\n",
      "      dtype='object')\n",
      "0.6222539628100561\n",
      "('RM', 'RAD')\n",
      "Index(['CRIM', 'ZN', 'INDUS', 'CHAS', 'NOX', 'RM', 'AGE', 'DIS', 'RAD', 'TAX',\n",
      "       'PTRATIO', 'B', 'LSTAT', 'RM_LSTAT', 'RM_RAD', 'CRIM_TAX'],\n",
      "      dtype='object')\n",
      "0.6317523987604695\n",
      "('CRIM', 'TAX')\n",
      "Index(['CRIM', 'ZN', 'INDUS', 'CHAS', 'NOX', 'RM', 'AGE', 'DIS', 'RAD', 'TAX',\n",
      "       'PTRATIO', 'B', 'LSTAT', 'RM_LSTAT', 'RM_RAD', 'CRIM_TAX',\n",
      "       'RM_PTRATIO'],\n",
      "      dtype='object')\n",
      "0.6376093616271614\n",
      "('RM', 'PTRATIO')\n",
      "Index(['CRIM', 'ZN', 'INDUS', 'CHAS', 'NOX', 'RM', 'AGE', 'DIS', 'RAD', 'TAX',\n",
      "       'PTRATIO', 'B', 'LSTAT', 'RM_LSTAT', 'RM_RAD', 'CRIM_TAX', 'RM_PTRATIO',\n",
      "       'INDUS_DIS'],\n",
      "      dtype='object')\n",
      "0.6550271286896376\n",
      "('INDUS', 'DIS')\n",
      "Index(['CRIM', 'ZN', 'INDUS', 'CHAS', 'NOX', 'RM', 'AGE', 'DIS', 'RAD', 'TAX',\n",
      "       'PTRATIO', 'B', 'LSTAT', 'RM_LSTAT', 'RM_RAD', 'CRIM_TAX', 'RM_PTRATIO',\n",
      "       'INDUS_DIS', 'DIS_LSTAT'],\n",
      "      dtype='object')\n",
      "0.6618893425982617\n",
      "('DIS', 'LSTAT')\n",
      "Index(['CRIM', 'ZN', 'INDUS', 'CHAS', 'NOX', 'RM', 'AGE', 'DIS', 'RAD', 'TAX',\n",
      "       'PTRATIO', 'B', 'LSTAT', 'RM_LSTAT', 'RM_RAD', 'CRIM_TAX', 'RM_PTRATIO',\n",
      "       'INDUS_DIS', 'DIS_LSTAT', 'AGE_B'],\n",
      "      dtype='object')\n",
      "0.673741770667385\n",
      "('AGE', 'B')\n"
     ]
    }
   ],
   "source": [
    "# Your code here\n",
    "from itertools import combinations\n",
    "combinations = list(combinations(boston.feature_names, 2))\n",
    "\n",
    "best_comb = None\n",
    "best_r2 = baseline\n",
    "new_X = df.copy()\n",
    "np.random.seed(123)\n",
    "\n",
    "for i in range(0,7):\n",
    "    comb_list = combinations\n",
    "    for comb in comb_list:\n",
    "        f1 = comb[0]\n",
    "        f2 = comb[1]\n",
    "        new_f = f1 + \"_\" + f2\n",
    "        X_interact = new_X.copy()\n",
    "        X_interact[new_f] = df[f1] * df[f2]\n",
    "        r2 = np.mean(cross_val_score(reg, X_interact, target, scoring = 'r2', cv=folder))\n",
    "        if r2 > best_r2:\n",
    "            best_comb = comb\n",
    "            best_r2 = r2\n",
    "        \n",
    "    f1 = best_comb[0]\n",
    "    f2 = best_comb[1]\n",
    "    new_f = f1 + \"_\" + f2\n",
    "    new_X[new_f] = df[f1] * df[f2]\n",
    "    print(best_r2)\n",
    "    print(best_comb)\n",
    "    comb_list.remove(best_comb)\n",
    "    best_comb = None"
   ]
  },
  {
   "cell_type": "markdown",
   "metadata": {},
   "source": [
    "Write code to include the 7 most important interactions in your data set by adding 7 columns. Name the columns \"var1_var2\" with var1 and var2 the two variables in the interaction."
   ]
  },
  {
   "cell_type": "code",
   "execution_count": 20,
   "metadata": {},
   "outputs": [],
   "source": [
    "# Your code here\n",
    "df_inter = new_X"
   ]
  },
  {
   "cell_type": "markdown",
   "metadata": {},
   "source": [
    "## Include Polynomials"
   ]
  },
  {
   "cell_type": "markdown",
   "metadata": {},
   "source": [
    "Try polynomials of 2, 3 and 4 for each variable, in a similar way you did for interactions (by looking at your baseline model and seeing how $R^2$ increases). Do understand that when going for a polynomial of 4, the particular column is raised to the power of 2 and 3 as well in other terms. We only want to include \"pure\" polynomials, so make sure no interactions are included. We want the result to return a list that contain tuples of the form:\n",
    "\n",
    "`(var_name, degree, R2)`, so eg. `('DIS', 3, 0.732)`"
   ]
  },
  {
   "cell_type": "code",
   "execution_count": 24,
   "metadata": {},
   "outputs": [
    {
     "name": "stdout",
     "output_type": "stream",
     "text": [
      "DIS 2 0.6875391967285044\n",
      "CRIM 2 0.6949423998956273\n"
     ]
    }
   ],
   "source": [
    "# Your code here\n",
    "\n",
    "best_var = None\n",
    "best_deg = None\n",
    "best_r2 = baseline\n",
    "new_X = df_inter.copy()\n",
    "np.random.seed(123)\n",
    "\n",
    "for i in range(0,2):\n",
    "    var_list = list(boston.feature_names)\n",
    "    for var in var_list:\n",
    "        for deg in range(2,5):\n",
    "            new_f = var + \"_\" + str(deg)\n",
    "            X_poly = new_X.copy()\n",
    "            X_poly[new_f] = df_inter[var] ** deg\n",
    "            r2 = np.mean(cross_val_score(reg, X_poly, target, scoring = 'r2', cv=folder))\n",
    "            if r2 > best_r2:\n",
    "                best_var = var\n",
    "                best_deg = deg\n",
    "                best_r2 = r2\n",
    "        \n",
    "    new_f = best_var + \"_\" + str(best_deg)\n",
    "    new_X[new_f] = df_inter[best_var] ** best_deg\n",
    "    print(best_var, best_deg, best_r2)\n",
    "    var_list.remove(best_var)\n",
    "    best_var = None"
   ]
  },
  {
   "cell_type": "markdown",
   "metadata": {},
   "source": [
    "For each variable, print out the maximum R2 possible when including Polynomials."
   ]
  },
  {
   "cell_type": "code",
   "execution_count": 6,
   "metadata": {},
   "outputs": [],
   "source": [
    "# Your code here"
   ]
  },
  {
   "cell_type": "markdown",
   "metadata": {},
   "source": [
    "Which two variables seem to benefit most from adding Polynomial terms?"
   ]
  },
  {
   "cell_type": "markdown",
   "metadata": {},
   "source": [
    "Add Polynomials for the two features that seem to benefit the most, as in have the best R squared compared to the baseline model. For each of the two feature, raise to the Polynomial that generates the best result. Make sure to start from the data set `df_inter` so the final data set has both interactions and polynomials in the model."
   ]
  },
  {
   "cell_type": "code",
   "execution_count": 25,
   "metadata": {},
   "outputs": [],
   "source": [
    "# Your code here\n",
    "df_ip = new_X"
   ]
  },
  {
   "cell_type": "markdown",
   "metadata": {},
   "source": [
    "check out your final data set and make sure that your interaction terms as well as your polynomial terms are included."
   ]
  },
  {
   "cell_type": "code",
   "execution_count": 26,
   "metadata": {},
   "outputs": [
    {
     "name": "stdout",
     "output_type": "stream",
     "text": [
      "<class 'pandas.core.frame.DataFrame'>\n",
      "RangeIndex: 506 entries, 0 to 505\n",
      "Data columns (total 22 columns):\n",
      "CRIM          506 non-null float64\n",
      "ZN            506 non-null float64\n",
      "INDUS         506 non-null float64\n",
      "CHAS          506 non-null float64\n",
      "NOX           506 non-null float64\n",
      "RM            506 non-null float64\n",
      "AGE           506 non-null float64\n",
      "DIS           506 non-null float64\n",
      "RAD           506 non-null float64\n",
      "TAX           506 non-null float64\n",
      "PTRATIO       506 non-null float64\n",
      "B             506 non-null float64\n",
      "LSTAT         506 non-null float64\n",
      "RM_LSTAT      506 non-null float64\n",
      "RM_RAD        506 non-null float64\n",
      "CRIM_TAX      506 non-null float64\n",
      "RM_PTRATIO    506 non-null float64\n",
      "INDUS_DIS     506 non-null float64\n",
      "DIS_LSTAT     506 non-null float64\n",
      "AGE_B         506 non-null float64\n",
      "DIS_2         506 non-null float64\n",
      "CRIM_2        506 non-null float64\n",
      "dtypes: float64(22)\n",
      "memory usage: 87.0 KB\n"
     ]
    }
   ],
   "source": [
    "# Your code here\n",
    "df_ip.info()"
   ]
  },
  {
   "cell_type": "markdown",
   "metadata": {},
   "source": [
    "## Full model R-squared"
   ]
  },
  {
   "cell_type": "markdown",
   "metadata": {},
   "source": [
    "Check out the R-squared of the full model."
   ]
  },
  {
   "cell_type": "code",
   "execution_count": 9,
   "metadata": {},
   "outputs": [],
   "source": [
    "# Your code here"
   ]
  },
  {
   "cell_type": "markdown",
   "metadata": {},
   "source": [
    "## Finding the best Lasso regularization parameter"
   ]
  },
  {
   "cell_type": "markdown",
   "metadata": {},
   "source": [
    "You've learned that, when using Lasso regularization, your coefficients shrink to 0 when using a higher regularization parameter. Now the question is which value we should choose for the regularization parameter. \n",
    "\n",
    "This is where the AIC and BIC come in handy! We'll use both criteria in what follows and perform cross-validation to select an optimal value of the regularization parameter alpha of the Lasso estimator.\n",
    "\n",
    "Read the page here: https://scikit-learn.org/stable/auto_examples/linear_model/plot_lasso_model_selection.html and create a similar plot as the first one listed on the page. "
   ]
  },
  {
   "cell_type": "code",
   "execution_count": 31,
   "metadata": {},
   "outputs": [
    {
     "data": {
      "text/plain": [
       "Text(0.5, 1.0, 'Information-criterion for model selection')"
      ]
     },
     "execution_count": 31,
     "metadata": {},
     "output_type": "execute_result"
    },
    {
     "data": {
      "image/png": "[encoded data removed]",
      "text/plain": [
       "<Figure size 432x288 with 1 Axes>"
      ]
     },
     "metadata": {
      "needs_background": "light"
     },
     "output_type": "display_data"
    }
   ],
   "source": [
    "# Your code here\n",
    "from sklearn.linear_model import Lasso, LassoLarsIC\n",
    "\n",
    "model_bic = LassoLarsIC(criterion='bic')\n",
    "model_bic.fit(df_ip, target)\n",
    "alpha_bic_ = model_bic.alpha_\n",
    "\n",
    "model_aic = LassoLarsIC(criterion='aic')\n",
    "model_aic.fit(df_ip, target)\n",
    "alpha_aic_ = model_aic.alpha_\n",
    "\n",
    "\n",
    "def plot_ic_criterion(model, name, color):\n",
    "    alpha_ = model.alpha_\n",
    "    alphas_ = model.alphas_\n",
    "    criterion_ = model.criterion_\n",
    "    plt.plot(-np.log10(alphas_), criterion_, '--', color=color,\n",
    "             linewidth=3, label='%s criterion' % name)\n",
    "    plt.axvline(-np.log10(alpha_), color=color, linewidth=3,\n",
    "                label='alpha: %s estimate' % name)\n",
    "    plt.xlabel('-log(alpha)')\n",
    "    plt.ylabel('criterion')\n",
    "\n",
    "plt.figure()\n",
    "plot_ic_criterion(model_aic, 'AIC', 'b')\n",
    "plot_ic_criterion(model_bic, 'BIC', 'r')\n",
    "plt.legend()\n",
    "plt.title('Information-criterion for model selection')"
   ]
  },
  {
   "cell_type": "code",
   "execution_count": 32,
   "metadata": {},
   "outputs": [
    {
     "data": {
      "text/plain": [
       "0.0017200392242476665"
      ]
     },
     "execution_count": 32,
     "metadata": {},
     "output_type": "execute_result"
    }
   ],
   "source": [
    "alpha_aic_"
   ]
  },
  {
   "cell_type": "markdown",
   "metadata": {},
   "source": [
    "## Analyze the final result\n",
    "\n",
    "Finally, use the best value for regularization parameter according to AIC and BIC and compare the R squared parameters and MSE using train-test-split. Compare with the baseline model."
   ]
  },
  {
   "cell_type": "code",
   "execution_count": 37,
   "metadata": {},
   "outputs": [
    {
     "name": "stdout",
     "output_type": "stream",
     "text": [
      "0.3532759243958824\n"
     ]
    }
   ],
   "source": [
    "# Code for baseline model\n",
    "print(baseline)"
   ]
  },
  {
   "cell_type": "code",
   "execution_count": 35,
   "metadata": {},
   "outputs": [
    {
     "name": "stdout",
     "output_type": "stream",
     "text": [
      "0.6939750308211822\n"
     ]
    }
   ],
   "source": [
    "# code for lasso with alpha from AIC\n",
    "lasso_aic = Lasso(alpha=alpha_aic_)\n",
    "lasso_aic.fit(df_ip, target)\n",
    "\n",
    "r2 = np.mean(cross_val_score(lasso_aic, df_ip, target, scoring = 'r2', cv=folder))\n",
    "print(r2)"
   ]
  },
  {
   "cell_type": "code",
   "execution_count": 36,
   "metadata": {},
   "outputs": [
    {
     "name": "stdout",
     "output_type": "stream",
     "text": [
      "0.6845795471341378\n"
     ]
    }
   ],
   "source": [
    "# code for lasso with alpha from BIC\n",
    "lasso_bic = Lasso(alpha=alpha_bic_)\n",
    "lasso_bic.fit(df_ip, target)\n",
    "\n",
    "r2 = np.mean(cross_val_score(lasso_bic, df_ip, target, scoring = 'r2', cv=folder))\n",
    "print(r2)"
   ]
  },
  {
   "cell_type": "markdown",
   "metadata": {},
   "source": [
    "## Level Up - Optional"
   ]
  },
  {
   "cell_type": "markdown",
   "metadata": {},
   "source": [
    "### Create a Lasso Path\n",
    "\n",
    "From this section, you know that when using lasso, more parameters shrink to zero as your regularization parameter goes up. In Scikit-Learn there is a function lasso_path which visualizes the shrinkage of the coefficients while alpha changes. Try this out yourself!\n",
    "\n",
    "https://scikit-learn.org/stable/auto_examples/linear_model/plot_lasso_coordinate_descent_path.html#sphx-glr-auto-examples-linear-model-plot-lasso-coordinate-descent-path-py"
   ]
  },
  {
   "cell_type": "markdown",
   "metadata": {},
   "source": [
    "### AIC and BIC for subset selection\n",
    "This notebook shows how you can use AIC and BIC purely for feature selection. Try this code out on our Boston Housing data!"
   ]
  },
  {
   "cell_type": "markdown",
   "metadata": {},
   "source": [
    "https://xavierbourretsicotte.github.io/subset_selection.html"
   ]
  },
  {
   "cell_type": "markdown",
   "metadata": {},
   "source": [
    "## Summary"
   ]
  },
  {
   "cell_type": "markdown",
   "metadata": {},
   "source": [
    "Congratulations! You now know how to create better linear models and how to use AIC and BIC for both feature selection and to optimize your regularization parameter when performing Ridge and Lasso. "
   ]
  }
 ],
 "metadata": {
  "kernelspec": {
   "display_name": "Python 3",
   "language": "python",
   "name": "python3"
  },
  "language_info": {
   "codemirror_mode": {
    "name": "ipython",
    "version": 3
   },
   "file_extension": ".py",
   "mimetype": "text/x-python",
   "name": "python",
   "nbconvert_exporter": "python",
   "pygments_lexer": "ipython3",
   "version": "3.6.6"
  }
 },
 "nbformat": 4,
 "nbformat_minor": 2
}
